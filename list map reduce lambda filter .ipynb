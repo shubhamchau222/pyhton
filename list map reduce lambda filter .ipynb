{
 "cells": [
  {
   "cell_type": "code",
   "execution_count": 6,
   "metadata": {},
   "outputs": [
    {
     "name": "stdout",
     "output_type": "stream",
     "text": [
      "[0, 1, 2, 3, 4, 5, 6, 7, 8, 9, 10, 11, 12, 13, 14]\n"
     ]
    }
   ],
   "source": [
    "l=[x for x in range (0,15)]  #list comprehesion \n",
    "print(l)"
   ]
  },
  {
   "cell_type": "markdown",
   "metadata": {},
   "source": [
    "# using filter function only"
   ]
  },
  {
   "cell_type": "code",
   "execution_count": 21,
   "metadata": {},
   "outputs": [
    {
     "name": "stdout",
     "output_type": "stream",
     "text": [
      "here we use only the Filter function \n",
      "even list using filter only  =  [0, 2, 4, 6, 8, 10, 12, 14]\n",
      "odd list using filter only =  [1, 3, 5, 7, 9, 11, 13]\n"
     ]
    }
   ],
   "source": [
    "#filter function using \" FUNCTION\"\n",
    "msg1='''here we use only the Filter function '''\n",
    "print(msg1)\n",
    "def even_num (n):\n",
    "    return n % 2==0\n",
    "#fun for odd \n",
    "def odd_num (n):\n",
    "    return n%2 != 0 \n",
    "#let's start operation \n",
    "even_list2= list (filter( even_num ,l) )\n",
    "print(\"even list using filter only  = \",even_list2)\n",
    "#operation for odd \n",
    "odd_list2= list(filter(odd_num,l))\n",
    "print(\"odd list using filter only = \",odd_list2)"
   ]
  },
  {
   "cell_type": "markdown",
   "metadata": {},
   "source": [
    "# using       \"filter + lambda \""
   ]
  },
  {
   "cell_type": "code",
   "execution_count": 20,
   "metadata": {},
   "outputs": [
    {
     "name": "stdout",
     "output_type": "stream",
     "text": [
      "here we use filter & lambda function both \n",
      "even list with using filter & lambda fun  =  [0, 2, 4, 6, 8, 10, 12, 14]\n",
      "odd list using filter & lambda  =  [1, 3, 5, 7, 9, 11, 13]\n"
     ]
    }
   ],
   "source": [
    "msg = '''here we use filter & lambda function both '''\n",
    "print(msg)\n",
    "\n",
    "#process to find even_num using : filter & lambda \n",
    "list_even = list(filter (lambda n : n%2==0,l))\n",
    "print( \"even list with using filter & lambda fun  = \",list_even )\n",
    "\n",
    "\n",
    "#process to find odd_num using : filter & lambda \n",
    "list_odd = list(filter(lambda n : n%2 != 0 ,l)) #here , l is the List from which wee have to choose odd numbers \n",
    "print(\"odd list using filter & lambda  = \",list_odd)"
   ]
  },
  {
   "cell_type": "markdown",
   "metadata": {},
   "source": [
    "# use of map function "
   ]
  },
  {
   "cell_type": "code",
   "execution_count": 44,
   "metadata": {},
   "outputs": [
    {
     "name": "stdout",
     "output_type": "stream",
     "text": [
      "Given list =  l1= [0, 1, 2, 3, 4, 5, 6, 7, 8, 9, 10] l2= [0, 1, 2, 3, 4, 5, 6, 7, 8, 9, 10]\n",
      "square_list using map function only : [0, 1, 4, 9, 16, 25, 36, 49, 64, 81, 100]\n",
      "additon of l1 & l2 using map finction only : [0, 2, 4, 6, 8, 10, 12, 14, 16, 18, 20]\n"
     ]
    }
   ],
   "source": [
    "l1=[x for x in range (0,11)]\n",
    "print(\"Given list = \" ,\"l1=\", l1,\"l2=\",l2)\n",
    "l2=[x for x in range(0,11)]\n",
    "\n",
    "# find the squre \n",
    "def squ_are (n):\n",
    "    return n*n\n",
    "square_list = list(map(squ_are , l1))\n",
    "print(\"square_list using map function only :\",square_list)\n",
    "\n",
    "#let's do additon of two  lists namely \"l1\" & \"l2\"\n",
    "def addi_tion (x,y):\n",
    "    return (x+y)\n",
    "addition_list = list(map(addi_tion ,l1,l2))\n",
    "print(\"additon of l1 & l2 using map finction only :\",addition_list)\n",
    "msg2='''msg   :  Here we use the map  fuction only ,\n",
    "         in which we create sepearate function for addition & put in to map function '''\n",
    "\n",
    "\n",
    "\n"
   ]
  },
  {
   "cell_type": "raw",
   "metadata": {},
   "source": []
  },
  {
   "cell_type": "markdown",
   "metadata": {},
   "source": [
    "# use of map & lambda fun"
   ]
  },
  {
   "cell_type": "code",
   "execution_count": 45,
   "metadata": {},
   "outputs": [
    {
     "name": "stdout",
     "output_type": "stream",
     "text": [
      "given lists are :\n",
      "l1 =  [0, 1, 2, 3, 4, 5, 6, 7, 8, 9, 10]\n",
      "l2 =  [0, 1, 2, 3, 4, 5, 6, 7, 8, 9, 10]\n",
      "addition_list using map & lamda function :  [0, 2, 4, 6, 8, 10, 12, 14, 16, 18, 20]\n"
     ]
    }
   ],
   "source": [
    "def display():\n",
    "    l1=[x for x in range (0,11)]\n",
    "    l2=[x for x in range (0,11)]\n",
    "    print(\"given lists are :\")\n",
    "    print(\"l1 = \",l1)\n",
    "    print(\"l2 = \",l2)\n",
    "display()\n",
    "\n",
    "\n",
    "addition_list1 = list (map(lambda x , y : x + y , l1 ,l2))\n",
    "print(\"addition_list using map & lamda function : \" , addition_list1)\n",
    "    \n",
    "    "
   ]
  },
  {
   "cell_type": "markdown",
   "metadata": {},
   "source": [
    "# use of lambda fun \n",
    "#lamda(function variable , operation equation , location or source }"
   ]
  },
  {
   "cell_type": "code",
   "execution_count": 27,
   "metadata": {},
   "outputs": [
    {
     "name": "stdout",
     "output_type": "stream",
     "text": [
      "[1, 2, 3, 4, 5, 6, 7, 8, 9, 10]\n",
      "[1, 4, 9, 16, 25, 36, 49, 64, 81, 100]\n",
      "square  root  using  import   math    tech       : [1.0, 2.0, 3.0, 4.0, 5.0, 6.0, 7.0, 8.0, 9.0, 10.0]\n",
      "square root using simple logical tech i'e (x**0.5): [1.0, 2.0, 3.0, 4.0, 5.0, 6.0, 7.0, 8.0, 9.0, 10.0]\n"
     ]
    }
   ],
   "source": [
    "l1=[x for x in range(1,11,1)]\n",
    "print(l1)\n",
    "\n",
    "#lets find the square of the all list  content \n",
    "square_list1 = list (map (lambda n : n * n ,l1))\n",
    "print (square_list1) \n",
    "\n",
    "# lets find square root using \"import math\" tech : \n",
    "import math \n",
    "squareroot = list (map(lambda x :math.sqrt(x) , square_list1))\n",
    "print(\"square  root  using  import   math    tech       :\",squareroot)\n",
    "\n",
    "#lets find square root using simple logical tech i'e (x**0.5)\n",
    "squareroot1 = list (map(lambda x : x**0.5 , square_list1 ))\n",
    "print(\"square root using simple logical tech i'e (x**0.5):\",squareroot1)"
   ]
  },
  {
   "cell_type": "markdown",
   "metadata": {},
   "source": [
    "# from  \" functools \" import reduce \n",
    "# reduce"
   ]
  },
  {
   "cell_type": "code",
   "execution_count": 39,
   "metadata": {},
   "outputs": [
    {
     "name": "stdout",
     "output_type": "stream",
     "text": [
      "[0, 1, 2, 3, 4, 5, 6, 7, 8, 9, 10]\n",
      "sum of list with using from functools import reeduce : sum_list 55\n",
      "sum of list with using  import.functools & functools.reduce = sum_list1 = 55\n",
      "Both Resuls are SAME\n"
     ]
    }
   ],
   "source": [
    "from functools import reduce\n",
    "l1=[a for a in range (0,11)]\n",
    "print(l1)\n",
    "\n",
    "#lets get the sum of total list \n",
    "sum_list = (reduce(lambda x,y: x  + y ,l1)) #note : here list data type convrsion isn't neccessaty \n",
    "print(\"sum of list with\",\"using from functools import reeduce :\" ,\"sum_list\", sum_list)\n",
    "\n",
    "# another method to import reduce \n",
    "import functools \n",
    "sum_list1 = (functools.reduce(lambda  a ,b : a + b ,l1))\n",
    "print(\"sum of list with using  import.functools & functools.reduce = sum_list1 =\",sum_list1)\n",
    "msg2='''Both Resuls are SAME'''\n",
    "print(msg2)"
   ]
  },
  {
   "cell_type": "code",
   "execution_count": 43,
   "metadata": {},
   "outputs": [
    {
     "name": "stdout",
     "output_type": "stream",
     "text": [
      "[1, 2, 4, 5, 5, 6, 7, 8, 9, 9]\n",
      "reverse using l7. reverse() =  [9, 9, 8, 7, 6, 5, 5, 4, 2, 1]\n",
      "[1, 2, 4, 5, 5, 6, 7, 8, 9, 9]\n",
      "reverse using l7.sort(reverse=True)=  [9, 9, 8, 7, 6, 5, 5, 4, 2, 1]\n"
     ]
    }
   ],
   "source": [
    "l7=[1,5,8,9,4,5,6,7,9,2]\n",
    "l7.sort()\n",
    "print(l7)\n",
    "\n",
    "l7.reverse()\n",
    "print(\"reverse using l7. reverse() = \" , l7)\n",
    "\n",
    "l7.sort()\n",
    "print(l7)\n",
    "\n",
    "l7.sort( reverse= True)\n",
    "print(\"reverse using l7.sort(reverse=True)= \" , l7)"
   ]
  },
  {
   "cell_type": "code",
   "execution_count": null,
   "metadata": {},
   "outputs": [],
   "source": []
  }
 ],
 "metadata": {
  "kernelspec": {
   "display_name": "Python 3",
   "language": "python",
   "name": "python3"
  },
  "language_info": {
   "codemirror_mode": {
    "name": "ipython",
    "version": 3
   },
   "file_extension": ".py",
   "mimetype": "text/x-python",
   "name": "python",
   "nbconvert_exporter": "python",
   "pygments_lexer": "ipython3",
   "version": "3.7.4"
  }
 },
 "nbformat": 4,
 "nbformat_minor": 2
}
