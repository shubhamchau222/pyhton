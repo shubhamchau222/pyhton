{
 "cells": [
  {
   "cell_type": "code",
   "execution_count": 29,
   "metadata": {},
   "outputs": [
    {
     "name": "stdout",
     "output_type": "stream",
     "text": [
      "RTaevjia\n"
     ]
    }
   ],
   "source": [
    "#program to merge characters of two string \n",
    "# string1 = \"ravi\"\n",
    "# string 2 = \"Teja\"\n",
    "#output= \"RTaevjia\"\n",
    "\n",
    "string1= \"Ravi\"\n",
    "string2=\"Teja\"\n",
    "list1 = []\n",
    "i,j = 0 ,0\n",
    "while i <len(string1) or j < len(string2):\n",
    "    if i < len(string1):\n",
    "        list1.append(string1[i])\n",
    "        i+=1\n",
    "    if j < len(string2):\n",
    "        list1.append(string2[j])\n",
    "        j+=1\n",
    "output = \"\".join(list1)\n",
    "print(output)\n"
   ]
  },
  {
   "cell_type": "code",
   "execution_count": 50,
   "metadata": {},
   "outputs": [
    {
     "name": "stdout",
     "output_type": "stream",
     "text": [
      "ABD134\n",
      "ABD134\n"
     ]
    }
   ],
   "source": [
    "#write program to sort the character of the string and first alphabet symbols followed by numeric value \n",
    "#input = B4A1D3\n",
    "#output = ABD134\n",
    "\n",
    "s1 = \"B1A4D3\"\n",
    "l1 = []# it stores alpha\n",
    "l2 = []  #it stores numeric \n",
    "#or\n",
    "l1,l2 = [], []\n",
    "\n",
    "for x in s1:\n",
    "    if x.isalpha():\n",
    "        l1.append(x)\n",
    "        \n",
    "    else:\n",
    "        l2.append(x)\n",
    "        \n",
    "#l1.sort() ----> it also valid \n",
    "#l2.sort() -----> it also valid \n",
    "output = \"\".join(sorted(l1) + sorted(l2))\n",
    "#output.sort()\n",
    "\n",
    "print(output)\n",
    "\n",
    "\n",
    "#                                           or     \n",
    "\n",
    "string = \"B1A4D3\"\n",
    "s1,s2,op = \"\",\"\",\"\"\n",
    "\n",
    "for i in string:\n",
    "    if i.isalpha()==True:\n",
    "        s1 = s1 + i\n",
    "        \n",
    "    if i.isdigit() ==True :\n",
    "        s2 = s2 + i\n",
    "        \n",
    "for x in sorted(s1):\n",
    "    op = op + x\n",
    "for x in sorted(s2):\n",
    "    op = op + x\n",
    "    \n",
    "print(op)\n",
    "\n",
    "\n",
    "        \n",
    "    "
   ]
  },
  {
   "cell_type": "code",
   "execution_count": 59,
   "metadata": {},
   "outputs": [
    {
     "name": "stdout",
     "output_type": "stream",
     "text": [
      " aaaabbbccg\n",
      "d\n"
     ]
    }
   ],
   "source": [
    "#input = \"a4b3c2\"\n",
    "#output = \"aaaabbbcc\"\n",
    "\n",
    "s1 = \"a4b3c2g\"\n",
    "output = \" \"\n",
    "for x in s1:\n",
    "    if x.isalpha():\n",
    "        output = output + x\n",
    "        a = x\n",
    "    elif x.isdigit():\n",
    "        output = output + ( a * (int(x)-1) )\n",
    "        \n",
    "print(output)\n",
    "        #  chr (ord(previous)+int(x))\n",
    "\n",
    "    "
   ]
  },
  {
   "cell_type": "code",
   "execution_count": 61,
   "metadata": {},
   "outputs": [
    {
     "name": "stdout",
     "output_type": "stream",
     "text": [
      "aeknbd\n"
     ]
    }
   ],
   "source": [
    "#input = a4k3b2\n",
    "#output = aeknbd\n",
    "\n",
    "string = \"a4k3b2\"\n",
    "output = \"\"\n",
    "for x in string:\n",
    "    if x.isalpha():\n",
    "        output = output + x\n",
    "        previous = x\n",
    "        \n",
    "    elif x.isdigit():\n",
    "        output = output + chr(ord(previous) + int(x))\n",
    "        \n",
    "        \n",
    "print(output)"
   ]
  },
  {
   "cell_type": "code",
   "execution_count": 2,
   "metadata": {},
   "outputs": [
    {
     "name": "stdout",
     "output_type": "stream",
     "text": [
      "ABDFJKMNSW\n",
      "Enter the stringaaaaabbbbbbdddddggggghhhssssdffffcvcvcvc\n",
      "abcdfghsv\n"
     ]
    }
   ],
   "source": [
    "#To remove the duplicate characters from the string.\n",
    "#input  = \"ABDSKKNKJKFWBKDKKBJBKJDBFKAAADDDDDAMJBF\"\n",
    "#OUTPUT = \"ABDFJKMNSW \"\n",
    "\n",
    "\n",
    "x =\"ABDSKKNKJKFWBKDKKBJBKJDBFKAAADDDDDAMJBF\"\n",
    "l1 = []\n",
    "for i in x:\n",
    "    if i not in l1:\n",
    "        l1.append(i)\n",
    "        \n",
    "out =\"\".join(sorted(l1))\n",
    "print(out)\n",
    "\n",
    "#2)\n",
    "\n",
    "ip = str(input(\"Enter the string\"))\n",
    "op = \"\"\n",
    "l2 = []\n",
    "for i in ip :\n",
    "    if i not in l2:\n",
    "        l2.append(i)\n",
    "        \n",
    "op = \"\".join(sorted(l2))\n",
    "print(op)\n"
   ]
  },
  {
   "cell_type": "code",
   "execution_count": 18,
   "metadata": {},
   "outputs": [
    {
     "name": "stdout",
     "output_type": "stream",
     "text": [
      "origial string =  one two three four five six seven \n",
      "output string  =  one owt three ruof five xis seven \n"
     ]
    }
   ],
   "source": [
    "#input  = \"one two three four five six seven\"\n",
    "#output = \"one owt three rouf five xis seven \"\n",
    "\n",
    "a = \"one two three four five six seven\"\n",
    "l1 =a.split()\n",
    "l2 = []\n",
    "for i in range (0 , len(l1) ) :\n",
    "    if i%2==0:\n",
    "        l2.append(l1[i])\n",
    "            \n",
    "    else:\n",
    "        l2.append(l1[i][::-1])\n",
    "            \n",
    "output = \" \".join(l2)\n",
    "print(\"origial string =  {} \".format(a) ) \n",
    "print(\"output string  =  {} \".format(output))\n",
    "\n",
    "\n"
   ]
  },
  {
   "cell_type": "markdown",
   "metadata": {},
   "source": [
    "# Date time formating \n"
   ]
  },
  {
   "cell_type": "code",
   "execution_count": 23,
   "metadata": {},
   "outputs": [
    {
     "name": "stdout",
     "output_type": "stream",
     "text": [
      "It's now : 12/03/20 12:44:20\n"
     ]
    }
   ],
   "source": [
    "import datetime\n",
    "a = datetime.datetime.now()\n",
    "print(\"It's now : {:%d/%m/%y %H:%M:%S}\".format(a))"
   ]
  },
  {
   "cell_type": "code",
   "execution_count": 26,
   "metadata": {},
   "outputs": [
    {
     "name": "stdout",
     "output_type": "stream",
     "text": [
      "3.141592653589793\n"
     ]
    }
   ],
   "source": [
    "import math\n",
    "a= math.pi\n",
    "print(a)"
   ]
  },
  {
   "cell_type": "markdown",
   "metadata": {},
   "source": [
    "# formating Comple Numbes \n",
    "\n"
   ]
  },
  {
   "cell_type": "code",
   "execution_count": 29,
   "metadata": {},
   "outputs": [
    {
     "name": "stdout",
     "output_type": "stream",
     "text": [
      "real part :2.0 and the imaginary part : 4.0\n"
     ]
    }
   ],
   "source": [
    "complexnumber = 2 + 4j \n",
    "print(\"real part :{0.real} and the imaginary part : {0.imag}\".format(complexnumber))\n"
   ]
  },
  {
   "cell_type": "code",
   "execution_count": 1,
   "metadata": {},
   "outputs": [
    {
     "name": "stdout",
     "output_type": "stream",
     "text": [
      "[0, 1, 2, 3, 4, 5, 6, 7, 8, 9, 10, 11, 12, 13, 14, 15, 16, 17, 18, 19, 20]\n",
      "[0, 1, 2, 3, 4, 5, 6, 7, 8, 9, 10, 11, 12, 13, 14, 15, 16, 17, 18, 19, 20]\n"
     ]
    }
   ],
   "source": [
    "l1= list(range(0,21))\n",
    "print(l1)\n",
    "a=\"\".join(str (l1))\n",
    "print(a)\n"
   ]
  },
  {
   "cell_type": "code",
   "execution_count": 2,
   "metadata": {},
   "outputs": [
    {
     "name": "stdout",
     "output_type": "stream",
     "text": [
      "['S', 't', 'o', 'c', 'k', ' ', 'm', 'a', 'r', 'k', 'e', 't', ' ', 'i', 's', ' ', 'f', 'a', 'l', 'l', 'i', 'n', 'g', ' ', 'd', 'o', 'w', 'n']\n",
      "l1 =  ['Stock', 'market', 'is', 'falling', 'down']\n"
     ]
    }
   ],
   "source": [
    "s = \"Stock market is falling down\"\n",
    "l = list(s)\n",
    "print(l)\n",
    "\n",
    "#with split() function\n",
    "l1= s.split()\n",
    "print(\"l1 = \",l1)"
   ]
  },
  {
   "cell_type": "code",
   "execution_count": 3,
   "metadata": {},
   "outputs": [
    {
     "name": "stdout",
     "output_type": "stream",
     "text": [
      "5\n",
      "5\n",
      "-1\n",
      "Sub_string not found\n"
     ]
    }
   ],
   "source": [
    "a=\"shubham\"\n",
    "print(a.find(\"a\"))\n",
    "print(a.index(\"a\"))\n",
    "print(a.find(\"Z\"))\n",
    "def inDexsubstring():\n",
    "    try:\n",
    "        return a.index(\"z\")\n",
    "    except ValueError as e:\n",
    "        print(\"Sub_string not found\")\n",
    "        \n",
    "inDexsubstring()            \n",
    "            "
   ]
  },
  {
   "cell_type": "markdown",
   "metadata": {},
   "source": [
    "# list.append() function "
   ]
  },
  {
   "cell_type": "code",
   "execution_count": 4,
   "metadata": {},
   "outputs": [
    {
     "name": "stdout",
     "output_type": "stream",
     "text": [
      "The list after append  [10, 40, 70, 80, 90]\n"
     ]
    }
   ],
   "source": [
    "l1 = [10,40,70,80]\n",
    "l1.append(90)  # it add the 90 AT last of the list \n",
    "print(\"The list after append \",l1 )"
   ]
  },
  {
   "cell_type": "markdown",
   "metadata": {},
   "source": [
    "# list.insert() option¶"
   ]
  },
  {
   "cell_type": "code",
   "execution_count": 5,
   "metadata": {},
   "outputs": [
    {
     "name": "stdout",
     "output_type": "stream",
     "text": [
      "['sam', 'mac', 'sunny']\n",
      "The list after insert [10, 'sam', 'mac', 'sunny']\n",
      "if the index number out of range \n",
      " then object is placed at last of list [10, 'sam', 'mac', 'sunny', 800]\n"
     ]
    }
   ],
   "source": [
    "l1 = [\"sam\",\"mac\"]\n",
    "l1.insert(100,\"sunny\")# insert should have two argumnents (arg1-->index number) (arg2 = \"the value Uhave to insert\")\n",
    "print(l1)           # list.insert(arg1,arg2)\n",
    "\n",
    "l1.insert(0,10)   # at 0'th index we insert 10 .\n",
    "print(\"The list after insert\",l1) \n",
    "\n",
    "l1.insert(1222222,800) # here :  index no 12222222 is out of range \n",
    "print(\"if the index number out of range \\n then object is placed at last of list\",l1)\n",
    "massage = '''HERE 800 INSERTED AT THE LAST OF THE LIST'''\n"
   ]
  },
  {
   "cell_type": "markdown",
   "metadata": {},
   "source": [
    "# extend() ----> it adds the two list"
   ]
  },
  {
   "cell_type": "code",
   "execution_count": 6,
   "metadata": {},
   "outputs": [
    {
     "name": "stdout",
     "output_type": "stream",
     "text": [
      "['mac', 'jac', 10, 20]\n"
     ]
    }
   ],
   "source": [
    "l1 = [\"mac\",\"jac\"]\n",
    "l2 = [10 , 20 ]\n",
    "l1.extend(l2)\n",
    "print(l1)"
   ]
  },
  {
   "cell_type": "code",
   "execution_count": 7,
   "metadata": {},
   "outputs": [
    {
     "name": "stdout",
     "output_type": "stream",
     "text": [
      "[1, 2, 3, 4, 5, 6, 7, 8, 9, 10]\n",
      "[5, 7, 9]\n",
      "[5, 6, 7, 8, 9, 10]\n"
     ]
    }
   ],
   "source": [
    "x=[x for x in range (1,11)]\n",
    "print(x)\n",
    "print(x[4::2])\n",
    "print(x[4:100000])"
   ]
  },
  {
   "cell_type": "code",
   "execution_count": 8,
   "metadata": {},
   "outputs": [
    {
     "name": "stdout",
     "output_type": "stream",
     "text": [
      "[0, 2, 4, 6, 8, 10]\n"
     ]
    }
   ],
   "source": [
    "l1  = [x for x in range (0,11)]\n",
    "l2 = []\n",
    "for i in l1:\n",
    "    if i %2 ==0:\n",
    "        l2.append(i)\n",
    "        \n",
    "print(l2)"
   ]
  },
  {
   "cell_type": "code",
   "execution_count": 9,
   "metadata": {},
   "outputs": [
    {
     "name": "stdout",
     "output_type": "stream",
     "text": [
      "'0' is at positive index '0' and negative index '-11' \n",
      "'1' is at positive index '1' and negative index '-10' \n",
      "'2' is at positive index '2' and negative index '-9' \n",
      "'3' is at positive index '3' and negative index '-8' \n",
      "'4' is at positive index '4' and negative index '-7' \n",
      "'5' is at positive index '5' and negative index '-6' \n",
      "'6' is at positive index '6' and negative index '-5' \n",
      "'7' is at positive index '7' and negative index '-4' \n",
      "'8' is at positive index '8' and negative index '-3' \n",
      "'9' is at positive index '9' and negative index '-2' \n",
      "'10' is at positive index '10' and negative index '-1' \n"
     ]
    }
   ],
   "source": [
    "# to dsiplay number / items at index wise \n",
    "\n",
    "l1 = [ x for x in range(0,11)]\n",
    "for i in l1:\n",
    "    print (\"'{}' is at positive index '{}' and negative index '{}' \" .format(i,l1.index(i) , l1.index(i)-len(l1)))"
   ]
  },
  {
   "cell_type": "markdown",
   "metadata": {},
   "source": [
    "# To know the index number of object"
   ]
  },
  {
   "cell_type": "code",
   "execution_count": 10,
   "metadata": {},
   "outputs": [
    {
     "name": "stdout",
     "output_type": "stream",
     "text": [
      "l2 = [0, 1, 2, 3, 4, 7, 8, 5, 6, 9]\n",
      "id(l1) =  2451765934536\n",
      "id(l2) =  2451765941448\n",
      "here 'id(l1)' and 'id(l2)' are not same \n",
      "****************************************\n",
      "id(l3) =  2451765942152\n",
      "id(l4) =  2451765942152\n",
      "here 'id(l3)' and 'id(l4)' are same \n"
     ]
    }
   ],
   "source": [
    "# clonining (copy) of the list\n",
    "\n",
    "l1 = [0,1,2,3,4,7,8,5,6,9]\n",
    "l2 = l1.copy()\n",
    "print(\"l2 =\",l2)\n",
    "print(\"id(l1) = \",id(l1))\n",
    "print(\"id(l2) = \",id(l2))\n",
    "print( \"here 'id(l1)' and 'id(l2)' are not same \")\n",
    "\n",
    "print(\"*\" * 40)\n",
    "\n",
    "l3 = [0,1,2,3,54,4,78,9,7,8]\n",
    "l4 = l3 \n",
    "print(\"id(l3) = \",id(l3))\n",
    "print(\"id(l4) = \",id(l4))\n",
    "print( \"here 'id(l3)' and 'id(l4)' are same \")"
   ]
  },
  {
   "cell_type": "markdown",
   "metadata": {},
   "source": [
    "# Using Mathematical Operator for list object\n",
    "1 ) Concatenation Operator (+)¶"
   ]
  },
  {
   "cell_type": "code",
   "execution_count": 11,
   "metadata": {},
   "outputs": [
    {
     "name": "stdout",
     "output_type": "stream",
     "text": [
      "Concatinate list 'l3 = l1 + l2' is  [10, 'mac', 30, 'john']\n"
     ]
    }
   ],
   "source": [
    "# we can use + to concatenate 2 list into a single list\n",
    "\n",
    "l1 = [10,\"mac\"]\n",
    "l2 = [30,\"john\"]\n",
    "l3 = l1 + l2\n",
    "print(\"Concatinate list 'l3 = l1 + l2' is \",l3)"
   ]
  },
  {
   "cell_type": "markdown",
   "metadata": {},
   "source": [
    "# Bubble Sorting"
   ]
  },
  {
   "cell_type": "code",
   "execution_count": 12,
   "metadata": {},
   "outputs": [
    {
     "name": "stdout",
     "output_type": "stream",
     "text": [
      "the origional list =  [10, 20, 50, 70, 40, 90, 80]\n",
      "Bubble sorted list =  [10, 20, 40, 50, 70, 80, 90]\n"
     ]
    }
   ],
   "source": [
    "# Bubble Sorting (ascending )\n",
    "l1 = [10 ,20 ,50 ,70,40,90,80]\n",
    "l2= [10 ,20 ,50 ,70,40,90,80]\n",
    "print(\"the origional list = \" , l1)\n",
    "\n",
    "for i in range(0 , len(l1)) :\n",
    "    for  j in  range (len(l1)):\n",
    "        if l1[i] < l1[j]:\n",
    "            temp = l1[i]\n",
    "            l1[i]=l1[j]\n",
    "            l1[j] = temp\n",
    "            \n",
    "print(\"Bubble sorted list = \", l1)      "
   ]
  },
  {
   "cell_type": "code",
   "execution_count": 13,
   "metadata": {},
   "outputs": [
    {
     "name": "stdout",
     "output_type": "stream",
     "text": [
      "original list      =  [10, 20, 50, 70, 40, 90, 80]\n",
      "Bubble Sorted list =  [90, 80, 70, 50, 40, 20, 10]\n"
     ]
    }
   ],
   "source": [
    "# Bubble Sorting (descending)\n",
    "l1 = [10 ,20 ,50 ,70,40,90,80]\n",
    "print(\"original list      = \" ,l1 )\n",
    "for i in range(0,len(l1)):\n",
    "    for j in range (len(l1)):\n",
    "        if l1[i] > l1[j]:\n",
    "            temp = l1[i]\n",
    "            l1[i]=l1[j]\n",
    "            l1[j] = temp \n",
    "            \n",
    "print(\"Bubble Sorted list = \", l1 )\n"
   ]
  },
  {
   "cell_type": "code",
   "execution_count": 14,
   "metadata": {},
   "outputs": [
    {
     "name": "stdout",
     "output_type": "stream",
     "text": [
      "[False, True, False, True, False, True, False, True, False, True, False]\n",
      "[1, 3, 5, 7, 9]\n",
      "[0, 2, 4, 6, 8, 10]\n",
      "['m', 'j']\n"
     ]
    }
   ],
   "source": [
    "l = [ x%2!=0 for x in range(0,11)]\n",
    "print(l)\n",
    "\n",
    "l= [x for x in range (0,11) if x%2!=0]\n",
    "print(l)\n",
    "\n",
    "m = [x for x in range(0,11) if x%2==0]\n",
    "print(m)\n",
    "\n",
    "n = [\"mac\" , \"john\"]\n",
    "v = [x[0] for x in n]\n",
    "print(v)\n",
    "\n"
   ]
  },
  {
   "cell_type": "code",
   "execution_count": 1,
   "metadata": {},
   "outputs": [
    {
     "name": "stdout",
     "output_type": "stream",
     "text": [
      "Enter some string\"Durgasoftwaresolutions\"\n",
      "Founded vowels ['u', 'a', 'o', 'a', 'e', 'o', 'u', 'i', 'o']\n",
      "Total number of vowels = 9\n",
      "Founded Vowels =  ['u', 'a', 'o', 'e', 'i']\n",
      "The total number of vowels count each once =  5\n"
     ]
    }
   ],
   "source": [
    "# finding vowels\n",
    "\n",
    "vowels = [\"a\",\"e\",\"o\",\"i\",\"u\"]\n",
    "found = []\n",
    "found1 = []\n",
    "string = str(input(\"Enter some string\"))\n",
    "for i in string:\n",
    "    if i in vowels :\n",
    "        found.append(i)\n",
    "        \n",
    "print(\"Founded vowels\",found)\n",
    "print(\"Total number of vowels =\",len(found))\n",
    "\n",
    "# avoiding the repeated vowels & ech vowels count once \n",
    "\n",
    "for i in string:\n",
    "    if i in vowels:\n",
    "        if i not in found1:\n",
    "            found1.append(i)\n",
    "            \n",
    "print(\"Founded Vowels = \" , found1)\n",
    "print(\"The total number of vowels count each once = \" ,len(found1) )\n"
   ]
  },
  {
   "cell_type": "code",
   "execution_count": 2,
   "metadata": {},
   "outputs": [
    {
     "name": "stdout",
     "output_type": "stream",
     "text": [
      "SPlited string list =  ['the', 'quick', 'brown', 'fox', 'jumps', 'over', 'the', 'lazy', 'dog']\n",
      "list with each word length [['THE', '3'], ['QUICK', '5'], ['BROWN', '5'], ['FOX', '3'], ['JUMPS', '5'], ['OVER', '4'], ['THE', '3'], ['LAZY', '4'], ['DOG', '3']]\n",
      "['THE3', 'QUICK5', 'BROWN5', 'FOX3', 'JUMPS5', 'OVER4', 'THE3', 'LAZY4', 'DOG3']\n",
      "THE3QUICK5BROWN5FOX3JUMPS5OVER4THE3LAZY4DOG3\n"
     ]
    }
   ],
   "source": [
    "words =\"the quick brown fox jumps over the lazy dog\".split() # it get converted to list :  str ---> list \n",
    "print(\"SPlited string list = \" ,words)\n",
    "\n",
    "l = [[x.upper(),str (len(x))] for x in words]\n",
    "print(\"list with each word length\",l)\n",
    "l1 =[]\n",
    "\n",
    "for i in l :\n",
    "    l1.append(\"\".join(i))\n",
    "    \n",
    "print(l1)\n",
    "string = \"\".join(l1)\n",
    "print(string)"
   ]
  },
  {
   "cell_type": "code",
   "execution_count": 3,
   "metadata": {},
   "outputs": [
    {
     "name": "stdout",
     "output_type": "stream",
     "text": [
      "Enter the number4\n",
      "ABCD\n",
      "\n",
      "A\n",
      "AB\n",
      "ABC\n",
      "ABCD\n"
     ]
    }
   ],
   "source": [
    "# pattern warmup\n",
    "a= \"A\"\n",
    "l1=[]\n",
    "b = int(input (\"Enter the number\" ) )\n",
    "\n",
    "for i in range (b):\n",
    "    l1.append(chr(ord(a)+i))\n",
    "c=\"\".join(l1)   \n",
    "print(c)\n",
    "for i in range(len(c)+1):\n",
    "    print(c[0 : i])"
   ]
  },
  {
   "cell_type": "markdown",
   "metadata": {},
   "source": [
    "# formating the numbers \n",
    "#d ----> decimal integer\n",
    "#f -----> Fixed point number(float)...default precesion == 06\n",
    "#b -----> Binary Format \n",
    "#o ----> octal format\n",
    "#x ----> hex decimal format(lower_Case)\n",
    "#X -----> hex decimal format (upper_case)"
   ]
  },
  {
   "cell_type": "code",
   "execution_count": 4,
   "metadata": {},
   "outputs": [
    {
     "name": "stdout",
     "output_type": "stream",
     "text": [
      "The integer number is :123\n",
      "The integer number is :123\n",
      "The integer number is :1234567\n",
      "The integer number is :00123\n"
     ]
    }
   ],
   "source": [
    "print(\"The integer number is :{}\".format(123))\n",
    "print(\"The integer number is :{:d}\".format(123))\n",
    "print(\"The integer number is :{:5d}\".format(1234567))\n",
    "print(\"The integer number is :{:05d}\".format(123))"
   ]
  },
  {
   "cell_type": "code",
   "execution_count": 5,
   "metadata": {},
   "outputs": [
    {
     "name": "stdout",
     "output_type": "stream",
     "text": [
      " 1 )The Float number is :123.0123456789\n",
      " 2 )The Float number is :123.012346\n",
      " 3 )The Float number is :0123.012\n",
      " 4 )The Float number is :123.0123\n",
      " 5 )The Float number is :123.01235\n",
      " 6 )The Float number is :0123.100\n"
     ]
    }
   ],
   "source": [
    "print(\" 1 )The Float number is :{}\".format(123.0123456789))\n",
    "print(\" 2 )The Float number is :{:f}\".format(123.0123456789))\n",
    "print(\" 3 )The Float number is :{:08.3f}\".format(123.0123456789))\n",
    "print(\" 4 )The Float number is :{:08.4f}\".format(123.0123456789))\n",
    "print(\" 5 )The Float number is :{:08.5f}\".format(123.0123456789))\n",
    "print(\" 6 )The Float number is :{:08.3f}\".format(123.1))\n"
   ]
  },
  {
   "cell_type": "code",
   "execution_count": 6,
   "metadata": {},
   "outputs": [
    {
     "name": "stdout",
     "output_type": "stream",
     "text": [
      " 1 )Binary form :10011001\n",
      " 2 )Octal form : 231\n",
      " 3 )Hexa Decimal form (lower_case): 9a\n",
      " 4 )Hexa Decimal form (upper_case): 9A\n"
     ]
    }
   ],
   "source": [
    "print(\" 1 )Binary form :{0:b}\".format(153))\n",
    "print(\" 2 )Octal form : {0:o}\".format(153))\n",
    "print(\" 3 )Hexa Decimal form (lower_case): {0:x}\".format(154))\n",
    "print(\" 4 )Hexa Decimal form (upper_case): {0:X}\".format(154))"
   ]
  },
  {
   "cell_type": "code",
   "execution_count": null,
   "metadata": {},
   "outputs": [],
   "source": []
  }
 ],
 "metadata": {
  "kernelspec": {
   "display_name": "Python 3",
   "language": "python",
   "name": "python3"
  },
  "language_info": {
   "codemirror_mode": {
    "name": "ipython",
    "version": 3
   },
   "file_extension": ".py",
   "mimetype": "text/x-python",
   "name": "python",
   "nbconvert_exporter": "python",
   "pygments_lexer": "ipython3",
   "version": "3.7.4"
  }
 },
 "nbformat": 4,
 "nbformat_minor": 2
}
